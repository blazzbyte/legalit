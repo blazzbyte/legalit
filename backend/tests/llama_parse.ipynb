{
 "cells": [
  {
   "cell_type": "markdown",
   "metadata": {},
   "source": [
    "# Testing llama parse implementation"
   ]
  },
  {
   "cell_type": "code",
   "execution_count": 1,
   "metadata": {},
   "outputs": [
    {
     "name": "stdout",
     "output_type": "stream",
     "text": [
      "llx-R8OmgoTDVBOLdJLlbeilGkOfaUVR48jHk7YUCJ678qrSbKDW\n"
     ]
    }
   ],
   "source": [
    "import os\n",
    "from dotenv import load_dotenv\n",
    "\n",
    "load_dotenv()\n",
    "print(os.getenv(\"LLAMA_CLOUD_API_KEY\"))"
   ]
  },
  {
   "cell_type": "code",
   "execution_count": 2,
   "metadata": {},
   "outputs": [],
   "source": [
    "from llama_parse import LlamaParse\n",
    "from llama_index.core.readers import SimpleDirectoryReader"
   ]
  },
  {
   "cell_type": "code",
   "execution_count": 73,
   "metadata": {},
   "outputs": [],
   "source": [
    "# from json import loads\n",
    "# userid = lambda file_obj: loads(file_obj.readline())\n",
    "reader = SimpleDirectoryReader(\n",
    "    input_dir='./data',\n",
    "    recursive=True,\n",
    "    exclude=['Llamaparse.pkl', 'UnstructureIO.pkl'],\n",
    "    # file_metadata=userid\n",
    ")"
   ]
  },
  {
   "cell_type": "code",
   "execution_count": 7,
   "metadata": {},
   "outputs": [],
   "source": [
    "import nest_asyncio\n",
    "\n",
    "nest_asyncio.apply()"
   ]
  },
  {
   "cell_type": "code",
   "execution_count": 74,
   "metadata": {},
   "outputs": [],
   "source": [
    "parser = LlamaParse(result_type=\"markdown\", verbose=True, language=\"en\")\n",
    "reader.file_extractor = {\".pdf\": parser}"
   ]
  },
  {
   "cell_type": "code",
   "execution_count": 75,
   "metadata": {},
   "outputs": [
    {
     "name": "stdout",
     "output_type": "stream",
     "text": [
      "Started parsing the file under job_id 32b4a845-10ad-44b1-a94f-34f765571d70\n",
      "Started parsing the file under job_id 774ab743-1529-41af-8478-14bb5d7b516b\n"
     ]
    }
   ],
   "source": [
    "documents = reader.load_data()"
   ]
  },
  {
   "cell_type": "code",
   "execution_count": 76,
   "metadata": {},
   "outputs": [
    {
     "data": {
      "text/plain": [
       "2"
      ]
     },
     "execution_count": 76,
     "metadata": {},
     "output_type": "execute_result"
    }
   ],
   "source": [
    "len(documents)"
   ]
  },
  {
   "cell_type": "code",
   "execution_count": 77,
   "metadata": {},
   "outputs": [
    {
     "name": "stdout",
     "output_type": "stream",
     "text": [
      "## C R I S T I A N M O L I N A\n",
      "\n",
      "D    E    S   A     R   R    O   L  L  A  D  O  R       .  N     E   T\n",
      "\n",
      "351-5510606\n",
      "\n",
      "cmaximilianomolina@gmail.com\n",
      "\n",
      "cristian-molina-90\n",
      "\n",
      "Córdoba - Argentina\n",
      "\n",
      "## F O R M A C I Ó N\n",
      "\n",
      "|TECNICATURA EN PROGRAMACION|ROSS | .NET/QA|\n",
      "|---|---|\n",
      "|UTN (CÓRDOBA - ARGENTINA)|Sistema de gestión para Ministerio de Finanzas Córdoba.|\n",
      "| |feb 2022 - dic 2023|\n",
      "|DISEÑO WEB|SOOFT | .NET|\n",
      "|AES (CÓRDOBA - ARGENTINA)|Sistema de gestión de clientes Claro|\n",
      "| |nov 2022 - abr 2023|\n",
      "\n",
      "## S K I L L S\n",
      "\n",
      "- .NET\n",
      "- HTML / CSS\n",
      "- C# / C / C++\n",
      "- Javascript\n",
      "- Ract\n",
      "- Web Design\n",
      "- SQL / Microsoft Azure\n",
      "- GIT\n",
      "- Selenium\n",
      "- SOLID\n",
      "- Metodologías Agiles\n",
      "- Ingles nivel A2\n",
      "\u001b[1;31m---------------------------------------------------------------------------------------------------------------------------------------------------------------------------------------\u001b[0m\n",
      "{\n",
      "  \"file_path\": \"c:\\\\Users\\\\rodri\\\\InXploit\\\\BlazzmoTech\\\\web\\\\assudit\\\\backend\\\\tests\\\\data\\\\1710522043095.pdf\",\n",
      "  \"file_name\": \"1710522043095.pdf\",\n",
      "  \"file_type\": \"application/pdf\",\n",
      "  \"file_size\": 122451,\n",
      "  \"creation_date\": \"2024-04-18\",\n",
      "  \"last_modified_date\": \"2024-03-17\"\n",
      "}\n",
      "\u001b[1;32m---------------------------------------------------------------------------------------------------------------------------------------------------------------------------------------\u001b[0m\n",
      "## Derecho y nuevas tecnologías\n",
      "\n",
      "Algor-ética: la ética en la inteligencia artificial POR JORGE F. VILLALBA(*)\n",
      "\n",
      "Sumario: I. Introducción.- II. Definición de inteligencia artificial.- III. La ética en la inteligencia artificial.- IV. Ética y diversas aplicaciones en la IA.- V. Principios éticos para el diseño y desarrollo de la inteligencia artificial.- VI. IA y política.- VII. Interrogantes.- VIII. Conclusiones.- IV. Propuestas.- X. Bibliografía.\n",
      "\n",
      "Resumen: mi actual tránsito por un doctorado en Educación, con el tema \"Inteligencia artificial aplicada a la sistematización de experiencias pedagógicas para el fortalecimiento del trabajo colectivo\", me lleva al abordaje de la cuestión para esta ocasión, pero desde otros enfoques disciplinarios, como la visión de la filosofía del derecho, la ética y la política. Si bien Argentina se encuentra aún en lo que podríamos llamar una etapa evangelizadora de estos temas, ya abundan expresiones del pensamiento de personas con prestigio intelectual que refieren a la inteligencia artificial (IA o AI) como \"algo\" que ya está entre nosotros, generando una gran revolución tecnológica con manifestaciones diversas, tales como la supresión de ciertas profesiones tal y como las conocemos hoy en día; cambio de métodos de trabajo, de prácticas forenses y demás praxis. Y es ese \"algo\" el que tenemos que intentar definir, delimitar y sobre todo medir cuantitativamente en términos de moralidad(1).\n",
      "\n",
      "(*) Abogado y Notario, Facultad de Derecho y Ciencias Sociales, Universidad Católica de Córdoba. Doctorando en Educación, Universidad Católica de Córdoba (UCC). Escribano Público. Prof. becado Programa Intensivo de Nivel Doctoral sobre Altos Estudios de Derecho Histórico, Dogmático y Comparado, Pontificia Universidad Católica de Chile. Prof. Derecho Romano, Derecho Privado VI, Derecho Notarial I y Derecho Notarial II, Universidad Católica de Córdoba. Prof. de la Maestría en Derecho Administrativo, Universidad Libre Seccional Socorro de Colombia.\n",
      "\n",
      "(1) Recuperado de https://dpicuantico.com/2019/02/04/inteligencia-artificial-en-la-corte-constitucional-colombiana-otra-experiencia-prometea/\n",
      "\n",
      "Revista Anales de la Facultad de Ciencias Jurídicas y Sociales. Universidad Nacional de La Plata. UNLP. Año 17/Nº 50-2020. Anual. Impresa ISSN 0075-7411-Electrónica ISSN 2591-6386\n",
      "---\n",
      "## Derecho y Nuevas Tecnologías\n",
      "\n",
      "Palabras claves: inteligencia artificial - AI - IA - algor-ética - blockchain\n",
      "\n",
      "Algor-ethics: ethics in artificial intelligence\n",
      "\n",
      "Abstract: my current transition to a PhD in Education, with the theme: “Artificial intelligence applied to the systematization of pedagogical experiences for the strengthening of collective work”; leads me to approach the issue for this occasion, but from other disciplinary approaches, such as the vision of the Philosophy of Law, Ethics and Politics. Even though Argentina is still in what we could call an evangelizing stage of these topics, there are already many expressions of the thought of people with intellectual prestige that refer to Artificial Intelligence (AI) as “something” that is already among us, generating a great technological revolution with diverse manifestations such as the suppression of certain professions as we know them today; change of work methods; of forensic practices and other practices. And it is this “something” that we must try to define, delimit and above all measure quantitatively in terms of morality.\n",
      "\n",
      "Keywords: artificial intelligence - AI - IA - algor-ethics - blockchain\n",
      "\n",
      "### I. Introducción\n",
      "\n",
      "Que la palabra y la tradición de la fe nos ayuden a interpretar los fenómenos de nuestro mundo. La algor-ética puede ser un puente para inscribir los principios de la Doctrina Social de la Iglesia en las tecnologías digitales. Papa Francisco (Mutual, 2020)\n",
      "\n",
      "Recientemente, la Organización para la Cooperación y el Desarrollo Económicos (en adelante OCDE), como la Unión Europea (en adelante UE), publicaron sendos documentos en los que establecen las reglas del “deber ser” de la inteligencia artificial (IA). En el caso de la OCDE, dictaminó los denominados “Principios sobre la Inteligencia Artificial”, mientras que la UE se refirió a los siete principios éticos que deben regir la IA.\n",
      "\n",
      "Debemos tener presente en este punto que Colombia adhiere al acuerdo sobre inteligencia artificial ante los países de la OCDE(2).\n",
      "\n",
      "La OCDE sostiene que deben ser los gobiernos los que garanticen que el diseño de los sistemas de IA respete los valores y leyes imperantes. El desafío consiste en que las personas puedan confiar que su seguridad y privacidad se respetarán,\n",
      "\n",
      "(2) Recuperado de https://www.mintic.gov.co/portal/inicio/Sala-de-Prensa/Noticias/100683:Colombia-se-adhiere-a-acuerdo-sobre-Inteligencia-Artificial-ante-los-paises-de-la-OCDE\n",
      "\n",
      "Revista Anales de la Facultad de Ciencias Jurídicas y Sociales. Universidad Nacional de La Plata. UNLP. Año 17/Nº 50-2020. Anual. Impresa ISSN 0075-7411-Electrónica ISSN 2591-6386\n",
      "\u001b[1;31m---------------------------------------------------------------------------------------------------------------------------------------------------------------------------------------\u001b[0m\n",
      "{\n",
      "  \"file_path\": \"c:\\\\Users\\\\rodri\\\\InXploit\\\\BlazzmoTech\\\\web\\\\assudit\\\\backend\\\\tests\\\\data\\\\Algor-etica, Jorge+F. Villalba.pdf\",\n",
      "  \"file_name\": \"Algor-etica, Jorge+F. Villalba.pdf\",\n",
      "  \"file_type\": \"application/pdf\",\n",
      "  \"file_size\": 118471,\n",
      "  \"creation_date\": \"2024-04-18\",\n",
      "  \"last_modified_date\": \"2024-04-18\"\n",
      "}\n",
      "\u001b[1;32m---------------------------------------------------------------------------------------------------------------------------------------------------------------------------------------\u001b[0m\n"
     ]
    }
   ],
   "source": [
    "for doc in documents:\n",
    "    print(doc.text)\n",
    "    print('\\33[1;31m' + \"-\"*183 + '\\33[0m')\n",
    "    print(dumps(doc.metadata, indent=2))\n",
    "    print('\\33[1;32m' + \"-\"*183 + '\\33[0m')"
   ]
  },
  {
   "cell_type": "code",
   "execution_count": 62,
   "metadata": {},
   "outputs": [
    {
     "name": "stdout",
     "output_type": "stream",
     "text": [
      "## C R I S T I A N M O L I N A\n",
      "\n",
      "D    E    S   A     R   R    O   L  L  A  D  O  R       .  N     E   T\n",
      "\n",
      "351-5510606\n",
      "\n",
      "cmaximilianomolina@gmail.com\n",
      "\n",
      "cristian-molina-90\n",
      "\n",
      "Córdoba - Argentina\n",
      "\n",
      "## F O R M A C I Ó N\n",
      "\n",
      "|TECNICATURA EN PROGRAMACION|ROSS | .NET/QA|\n",
      "|---|---|\n",
      "|UTN (CÓRDOBA - ARGENTINA)|Sistema de gestión para Ministerio de Finanzas Córdoba.|\n",
      "| |feb 2022 - dic 2023|\n",
      "|DISEÑO WEB|SOOFT | .NET|\n",
      "|AES (CÓRDOBA - ARGENTINA)|Sistema de gestión de clientes Claro|\n",
      "| |nov 2022 - abr 2023|\n",
      "\n",
      "## S K I L L S\n",
      "\n",
      "- .NET\n",
      "- HTML / CSS\n",
      "- C# / C / C++\n",
      "- Javascript\n",
      "- Ract\n",
      "- Web Design\n",
      "- SQL / Microsoft Azure\n",
      "- GIT\n",
      "- Selenium\n",
      "- SOLID\n",
      "- Metodologías Agiles\n",
      "- Ingles nivel A2\n",
      "\u001b[1;31m---------------------------------------------------------------------------------------------------------------------------------------------------------------------------------------\u001b[0m\n",
      "{\n",
      "  \"file_path\": \"c:\\\\Users\\\\rodri\\\\InXploit\\\\BlazzmoTech\\\\web\\\\assudit\\\\backend\\\\tests\\\\data\\\\1710522043095.pdf\",\n",
      "  \"file_name\": \"1710522043095.pdf\",\n",
      "  \"file_type\": \"application/pdf\",\n",
      "  \"file_size\": 122451,\n",
      "  \"creation_date\": \"2024-04-18\",\n",
      "  \"last_modified_date\": \"2024-03-17\"\n",
      "}\n",
      "\u001b[1;32m---------------------------------------------------------------------------------------------------------------------------------------------------------------------------------------\u001b[0m\n",
      "## Derecho y nuevas tecnologías\n",
      "\n",
      "Algor-ética: la ética en la inteligencia artificial POR JORGE F. VILLALBA(*)\n",
      "\n",
      "Sumario: I. Introducción.- II. Definición de inteligencia artificial.- III. La ética en la inteligencia artificial.- IV. Ética y diversas aplicaciones en la IA.- V. Principios éticos para el diseño y desarrollo de la inteligencia artificial.- VI. IA y política.- VII. Interrogantes.- VIII. Conclusiones.- IV. Propuestas.- X. Bibliografía.\n",
      "\n",
      "Resumen: mi actual tránsito por un doctorado en Educación, con el tema \"Inteligencia artificial aplicada a la sistematización de experiencias pedagógicas para el fortalecimiento del trabajo colectivo\", me lleva al abordaje de la cuestión para esta ocasión, pero desde otros enfoques disciplinarios, como la visión de la filosofía del derecho, la ética y la política. Si bien Argentina se encuentra aún en lo que podríamos llamar una etapa evangelizadora de estos temas, ya abundan expresiones del pensamiento de personas con prestigio intelectual que refieren a la inteligencia artificial (IA o AI) como \"algo\" que ya está entre nosotros, generando una gran revolución tecnológica con manifestaciones diversas, tales como la supresión de ciertas profesiones tal y como las conocemos hoy en día; cambio de métodos de trabajo, de prácticas forenses y demás praxis. Y es ese \"algo\" el que tenemos que intentar definir, delimitar y sobre todo medir cuantitativamente en términos de moralidad(1).\n",
      "\n",
      "(*) Abogado y Notario, Facultad de Derecho y Ciencias Sociales, Universidad Católica de Córdoba. Doctorando en Educación, Universidad Católica de Córdoba (UCC). Escribano Público. Prof. becado Programa Intensivo de Nivel Doctoral sobre Altos Estudios de Derecho Histórico, Dogmático y Comparado, Pontificia Universidad Católica de Chile. Prof. Derecho Romano, Derecho Privado VI, Derecho Notarial I y Derecho Notarial II, Universidad Católica de Córdoba. Prof. de la Maestría en Derecho Administrativo, Universidad Libre Seccional Socorro de Colombia.\n",
      "\n",
      "(1) Recuperado de https://dpicuantico.com/2019/02/04/inteligencia-artificial-en-la-corte-constitucional-colombiana-otra-experiencia-prometea/\n",
      "\n",
      "Revista Anales de la Facultad de Ciencias Jurídicas y Sociales. Universidad Nacional de La Plata. UNLP. Año 17/Nº 50-2020. Anual. Impresa ISSN 0075-7411-Electrónica ISSN 2591-6386\n",
      "---\n",
      "## Derecho y Nuevas Tecnologías\n",
      "\n",
      "Palabras claves: inteligencia artificial - AI - IA - algor-ética - blockchain\n",
      "\n",
      "Algor-ethics: ethics in artificial intelligence\n",
      "\n",
      "Abstract: my current transition to a PhD in Education, with the theme: “Artificial intelligence applied to the systematization of pedagogical experiences for the strengthening of collective work”; leads me to approach the issue for this occasion, but from other disciplinary approaches, such as the vision of the Philosophy of Law, Ethics and Politics. Even though Argentina is still in what we could call an evangelizing stage of these topics, there are already many expressions of the thought of people with intellectual prestige that refer to Artificial Intelligence (AI) as “something” that is already among us, generating a great technological revolution with diverse manifestations such as the suppression of certain professions as we know them today; change of work methods; of forensic practices and other practices. And it is this “something” that we must try to define, delimit and above all measure quantitatively in terms of morality.\n",
      "\n",
      "Keywords: artificial intelligence - AI - IA - algor-ethics - blockchain\n",
      "\n",
      "### I. Introducción\n",
      "\n",
      "Que la palabra y la tradición de la fe nos ayuden a interpretar los fenómenos de nuestro mundo. La algor-ética puede ser un puente para inscribir los principios de la Doctrina Social de la Iglesia en las tecnologías digitales. Papa Francisco (Mutual, 2020)\n",
      "\n",
      "Recientemente, la Organización para la Cooperación y el Desarrollo Económicos (en adelante OCDE), como la Unión Europea (en adelante UE), publicaron sendos documentos en los que establecen las reglas del “deber ser” de la inteligencia artificial (IA). En el caso de la OCDE, dictaminó los denominados “Principios sobre la Inteligencia Artificial”, mientras que la UE se refirió a los siete principios éticos que deben regir la IA.\n",
      "\n",
      "Debemos tener presente en este punto que Colombia adhiere al acuerdo sobre inteligencia artificial ante los países de la OCDE(2).\n",
      "\n",
      "La OCDE sostiene que deben ser los gobiernos los que garanticen que el diseño de los sistemas de IA respete los valores y leyes imperantes. El desafío consiste en que las personas puedan confiar que su seguridad y privacidad se respetarán,\n",
      "\n",
      "(2) Recuperado de https://www.mintic.gov.co/portal/inicio/Sala-de-Prensa/Noticias/100683:Colombia-se-adhiere-a-acuerdo-sobre-Inteligencia-Artificial-ante-los-paises-de-la-OCDE\n",
      "\n",
      "Revista Anales de la Facultad de Ciencias Jurídicas y Sociales. Universidad Nacional de La Plata. UNLP. Año 17/Nº 50-2020. Anual. Impresa ISSN 0075-7411-Electrónica ISSN 2591-6386\n",
      "\u001b[1;31m---------------------------------------------------------------------------------------------------------------------------------------------------------------------------------------\u001b[0m\n",
      "{\n",
      "  \"file_path\": \"c:\\\\Users\\\\rodri\\\\InXploit\\\\BlazzmoTech\\\\web\\\\assudit\\\\backend\\\\tests\\\\data\\\\Algor-etica, Jorge+F. Villalba.pdf\",\n",
      "  \"file_name\": \"Algor-etica, Jorge+F. Villalba.pdf\",\n",
      "  \"file_type\": \"application/pdf\",\n",
      "  \"file_size\": 118471,\n",
      "  \"creation_date\": \"2024-04-18\",\n",
      "  \"last_modified_date\": \"2024-04-18\"\n",
      "}\n",
      "\u001b[1;32m---------------------------------------------------------------------------------------------------------------------------------------------------------------------------------------\u001b[0m\n",
      "creation_dateama_index.core.schemDocument)}__dict__}(\u0003id_$638d0a49-a172-4fd6-bde9-1241cc1e757a\tembeddingmetadata}(\tfile_pathTc:\\Users\\rodri\\InXploit\\BlazzmoTech\\web\\assudit\\backend\\tests\\data\\1710522043095.pdf\tfile_name\u00111710522043095.pdf\tfile_type\u000fapplication/pdf\tfile_sizeJS\u0001\u0000\n",
      "2024-04-18\u0012last_modified_date\n",
      "relationships}\u0004textX\u0002\u0000\u0000## C R I S T I A N M O L I N Alast_accessed_datee\u001aexcluded_llm_metadata_keys](h\u000fh\u0011h\u0013h\u0014h\u0016h\u001ae\n",
      "\n",
      "D    E    S   A     R   R    O   L  L  A  D  O  R       .  N     E   T\n",
      "\n",
      "351-5510606\n",
      "\n",
      "cmaximilianomolina@gmail.com\n",
      "\n",
      "cristian-molina-90\n",
      "\n",
      "Córdoba - Argentina\n",
      "\n",
      "## F O R M A C I Ó N\n",
      "\n",
      "|TECNICATURA EN PROGRAMACION|ROSS | .NET/QA|\n",
      "|---|---|\n",
      "|UTN (CÓRDOBA - ARGENTINA)|Sistema de gestión para Ministerio de Finanzas Córdoba.|\n",
      "| |feb 2022 - dic 2023|\n",
      "|DISEÑO WEB|SOOFT | .NET|\n",
      "|AES (CÓRDOBA - ARGENTINA)|Sistema de gestión de clientes Claro|\n",
      "| |nov 2022 - abr 2023|\n",
      "\n",
      "## S K I L L S\n",
      "\n",
      "- .NET\n",
      "- HTML / CSS\n",
      "- C# / C / C++\n",
      "- Javascript\n",
      "- Ract\n",
      "- Web Design\n",
      "- SQL / Microsoft Azure\n",
      "- GIT\n",
      "- Selenium\n",
      "- SOLID\n",
      "- Metodologías Agiles\n",
      "text_template\u0019{metadata_str}_idxN\fend_char_idxN\n",
      "\n",
      "{content}\u0011metadata_template\u000e{key}: {value}\u0012metadata_seperator\u0001\n",
      "u\u000e__fields_set__(h\u000bh\u001f\u001c__private_attribute_values__}uba.\n",
      "\u001b[1;31m---------------------------------------------------------------------------------------------------------------------------------------------------------------------------------------\u001b[0m\n",
      "{\n",
      "  \"file_path\": \"c:\\\\Users\\\\rodri\\\\InXploit\\\\BlazzmoTech\\\\web\\\\assudit\\\\backend\\\\tests\\\\data\\\\Llamaparse.pkl\",\n",
      "  \"file_name\": \"Llamaparse.pkl\",\n",
      "  \"file_size\": 1401,\n",
      "  \"creation_date\": \"2024-04-18\",\n",
      "  \"last_modified_date\": \"2024-04-18\"\n",
      "}\n",
      "\u001b[1;32m---------------------------------------------------------------------------------------------------------------------------------------------------------------------------------------\u001b[0m\n",
      "\u0004\n",
      "relationships}\u0004text\u0000\u0000C R I S T I A N M O L I N A}(\u0003id_$c28fef3f-676f-4c31-8528-69c7a45a5a07\tembeddingmetadatafilename\u0016data\\1710522043095.pdfs\u001cexcluded_embed_metadata_keys]\u001aexcluded_llm_metadata_keys]\n",
      "\n",
      "D E S A R R O L L A D O R\n",
      "\n",
      ". N E T\n",
      "\n",
      "351-5510606\n",
      "\n",
      "P E R F I L Programador con experiencia en .NET, SQL, C#, HTML y CSS. Capaz de\n",
      "\n",
      "cmaximilianomolina@gmail.com\n",
      "\n",
      "desarrollar aplicaciones robustas y escalables, con habilidades en el\n",
      "\n",
      "cristian-molina-90\n",
      "\n",
      "diseño y mantenimiento de bases de datos. Apasionado por la\n",
      "\n",
      "resolución de problemas y comprometido con la excelencia en el\n",
      "\n",
      "Córdoba - Argentina\n",
      "\n",
      "desarrollo de software.\n",
      "\n",
      "F O R M A C I Ó N\n",
      "\n",
      "E X P E R I E N C I A\n",
      "\n",
      "TECNICATURA EN PROGRAMACION\n",
      "\n",
      "ROSS | .NET/QA\n",
      "\n",
      "UTN (CÓRDOBA - ARGENTINA)\n",
      "\n",
      "Sistema de gestión para Ministerio de Finanzas Córdoba.\n",
      "\n",
      "feb 2022 - dic 2023\n",
      "\n",
      "DISEÑO WEB\n",
      "\n",
      "Desarrollo de sistema en .NET y control de calidad (QA) para el Ministerio de\n",
      "\n",
      "AES (CÓRDOBA - ARGENTINA)\n",
      "\n",
      "Finanzas, utilizando herramientas como Postman e Insomnia para pruebas de\n",
      "\n",
      "integración, consultas SQL con DBeaver, y automatización de pruebas con\n",
      "\n",
      "COMPLETE, JAVASCRIPT. JQUERY AND REACT.\n",
      "\n",
      "Selenium.\n",
      "\n",
      "UDEMY\n",
      "\n",
      "SOOFT | .NET\n",
      "\n",
      "Sistema de gestión de clientes Claro\n",
      "\n",
      "ESSENTIAL FOR ESL COMMUNICATION\n",
      "\n",
      "nov 2022 - abr 2023\n",
      "\n",
      "UDEMY\n",
      "\n",
      "Desarrollo de Sistema de gestión de clientes para Claro, utilizando\n",
      "\n",
      ".NET en Visual Studio, tecnologías web como HTML, CSS, con base\n",
      "\n",
      "de datos en SQL y Azure, y control de versiones con Git.\n",
      "\n",
      "S K I L L S\n",
      "\n",
      "BITSION | .NET\n",
      "\n",
      ".NET\n",
      "\n",
      "Sistema de venta de polizas.\n",
      "\n",
      "dic 2020 - sep 2021\n",
      "\n",
      "HTML / CSS\n",
      "\n",
      "Desarrollo de Sistema para venta de pólizas (Colombia), utilizando .NET en Visual Studio\n",
      "\n",
      "C# / C / C++\n",
      "\n",
      "para la programación, HTML y CSS para el diseño, y base de datos en SQL y Azure para el\n",
      "\n",
      "Javascript\n",
      "\n",
      "almacenamiento de datos. Se emplearon herramientas como Postman para pruebas de API\n",
      "\n",
      "Ract\n",
      "\n",
      "y Git para control de versiones.\n",
      "\n",
      "Web Design\n",
      "\n",
      "SQL / Microsoft Azure\n",
      "\n",
      "ASSIST INFORMATICA | .NET\n",
      "\n",
      "GIT\n",
      "\n",
      "Sistemas para farmacias y centros medicos\n",
      "\n",
      "Selenium\n",
      "\n",
      "Ene 2018 - Dic 2020\n",
      "\n",
      "SOLID\n",
      "\n",
      "Desarrollo de dos sistemas diferentes: uno para centros médicos y otro para farmacias. Se\n",
      "\n",
      "utilizaron tecnologías como .NET en Visual Studio para la programación, HTML y CSS\n",
      "\n",
      "Metodologías Agiles\n",
      "\n",
      "para el diseño, y base de datos en SQL y Azure para el almacenamiento de datos. Se\n",
      "\n",
      "Ingles nivel A2\n",
      "\n",
      "text_template\u0019{metadata_str}e versiones de ambos proyectos.\u000estart_char_idxN\fend_char_idxN\n",
      "\n",
      "{content}\u0011metadata_template\u000e{key}: {value}\u0012metadata_seperator\u0001\n",
      "u\u000e__fields_set__(h\u000bh\u0015\u001c__private_attribute_values__}uba.\n",
      "\u001b[1;31m---------------------------------------------------------------------------------------------------------------------------------------------------------------------------------------\u001b[0m\n",
      "{\n",
      "  \"file_path\": \"c:\\\\Users\\\\rodri\\\\InXploit\\\\BlazzmoTech\\\\web\\\\assudit\\\\backend\\\\tests\\\\data\\\\UnstructureIO.pkl\",\n",
      "  \"file_name\": \"UnstructureIO.pkl\",\n",
      "  \"file_size\": 2705,\n",
      "  \"creation_date\": \"2024-04-18\",\n",
      "  \"last_modified_date\": \"2024-04-18\"\n",
      "}\n",
      "\u001b[1;32m---------------------------------------------------------------------------------------------------------------------------------------------------------------------------------------\u001b[0m\n"
     ]
    }
   ],
   "source": [
    "for doc in documents:\n",
    "    print(doc.text)\n",
    "    print('\\33[1;31m' + \"-\"*183 + '\\33[0m')\n",
    "    print(dumps(doc.metadata, indent=2))\n",
    "    print('\\33[1;32m' + \"-\"*183 + '\\33[0m')"
   ]
  },
  {
   "cell_type": "code",
   "execution_count": 57,
   "metadata": {},
   "outputs": [
    {
     "name": "stdout",
     "output_type": "stream",
     "text": [
      "## C R I S T I A N M O L I N A\n",
      "\n",
      "D    E    S   A     R   R    O   L  L  A  D  O  R       .  N     E   T\n",
      "\n",
      "351-5510606\n",
      "\n",
      "cmaximilianomolina@gmail.com\n",
      "\n",
      "cristian-molina-90\n",
      "\n",
      "Córdoba - Argentina\n",
      "\n",
      "## F O R M A C I Ó N\n",
      "\n",
      "|TECNICATURA EN PROGRAMACION|ROSS | .NET/QA|\n",
      "|---|---|\n",
      "|UTN (CÓRDOBA - ARGENTINA)|Sistema de gestión para Ministerio de Finanzas Córdoba.|\n",
      "| |feb 2022 - dic 2023|\n",
      "|DISEÑO WEB|SOOFT | .NET|\n",
      "|AES (CÓRDOBA - ARGENTINA)|Sistema de gestión de clientes Claro|\n",
      "| |nov 2022 - abr 2023|\n",
      "\n",
      "## S K I L L S\n",
      "\n",
      "- .NET\n",
      "- HTML / CSS\n",
      "- C# / C / C++\n",
      "- Javascript\n",
      "- Ract\n",
      "- Web Design\n",
      "- SQL / Microsoft Azure\n",
      "- GIT\n",
      "- Selenium\n",
      "- SOLID\n",
      "- Metodologías Agiles\n",
      "- Ingles nivel A2\n",
      "\u001b[1;31m---------------------------------------------------------------------------------------------------------------------------------------------------------------------------------------\u001b[0m\n",
      "{\n",
      "  \"user_id\": \"default\",\n",
      "  \"file_path\": \"c:\\\\Users\\\\rodri\\\\InXploit\\\\BlazzmoTech\\\\web\\\\assudit\\\\backend\\\\tests\\\\data\\\\1710522043095.pdf\"\n",
      "}\n",
      "\u001b[1;32m---------------------------------------------------------------------------------------------------------------------------------------------------------------------------------------\u001b[0m\n",
      "## Derecho y nuevas tecnologías\n",
      "\n",
      "Algor-ética: la ética en la inteligencia artificial POR JORGE F. VILLALBA(*)\n",
      "\n",
      "Sumario: I. Introducción.- II. Definición de inteligencia artificial.- III. La ética en la inteligencia artificial.- IV. Ética y diversas aplicaciones en la IA.- V. Principios éticos para el diseño y desarrollo de la inteligencia artificial.- VI. IA y política.- VII. Interrogantes.- VIII. Conclusiones.- IV. Propuestas.- X. Bibliografía.\n",
      "\n",
      "Resumen: mi actual tránsito por un doctorado en Educación, con el tema \"Inteligencia artificial aplicada a la sistematización de experiencias pedagógicas para el fortalecimiento del trabajo colectivo\", me lleva al abordaje de la cuestión para esta ocasión, pero desde otros enfoques disciplinarios, como la visión de la filosofía del derecho, la ética y la política. Si bien Argentina se encuentra aún en lo que podríamos llamar una etapa evangelizadora de estos temas, ya abundan expresiones del pensamiento de personas con prestigio intelectual que refieren a la inteligencia artificial (IA o AI) como \"algo\" que ya está entre nosotros, generando una gran revolución tecnológica con manifestaciones diversas, tales como la supresión de ciertas profesiones tal y como las conocemos hoy en día; cambio de métodos de trabajo, de prácticas forenses y demás praxis. Y es ese \"algo\" el que tenemos que intentar definir, delimitar y sobre todo medir cuantitativamente en términos de moralidad(1).\n",
      "\n",
      "(*) Abogado y Notario, Facultad de Derecho y Ciencias Sociales, Universidad Católica de Córdoba. Doctorando en Educación, Universidad Católica de Córdoba (UCC). Escribano Público. Prof. becado Programa Intensivo de Nivel Doctoral sobre Altos Estudios de Derecho Histórico, Dogmático y Comparado, Pontificia Universidad Católica de Chile. Prof. Derecho Romano, Derecho Privado VI, Derecho Notarial I y Derecho Notarial II, Universidad Católica de Córdoba. Prof. de la Maestría en Derecho Administrativo, Universidad Libre Seccional Socorro de Colombia.\n",
      "\n",
      "(1) Recuperado de https://dpicuantico.com/2019/02/04/inteligencia-artificial-en-la-corte-constitucional-colombiana-otra-experiencia-prometea/\n",
      "\n",
      "Revista Anales de la Facultad de Ciencias Jurídicas y Sociales. Universidad Nacional de La Plata. UNLP. Año 17/Nº 50-2020. Anual. Impresa ISSN 0075-7411-Electrónica ISSN 2591-6386\n",
      "---\n",
      "## Derecho y Nuevas Tecnologías\n",
      "\n",
      "Palabras claves: inteligencia artificial - AI - IA - algor-ética - blockchain\n",
      "\n",
      "Algor-ethics: ethics in artificial intelligence\n",
      "\n",
      "Abstract: my current transition to a PhD in Education, with the theme: “Artificial intelligence applied to the systematization of pedagogical experiences for the strengthening of collective work”; leads me to approach the issue for this occasion, but from other disciplinary approaches, such as the vision of the Philosophy of Law, Ethics and Politics. Even though Argentina is still in what we could call an evangelizing stage of these topics, there are already many expressions of the thought of people with intellectual prestige that refer to Artificial Intelligence (AI) as “something” that is already among us, generating a great technological revolution with diverse manifestations such as the suppression of certain professions as we know them today; change of work methods; of forensic practices and other practices. And it is this “something” that we must try to define, delimit and above all measure quantitatively in terms of morality.\n",
      "\n",
      "Keywords: artificial intelligence - AI - IA - algor-ethics - blockchain\n",
      "\n",
      "### I. Introducción\n",
      "\n",
      "Que la palabra y la tradición de la fe nos ayuden a interpretar los fenómenos de nuestro mundo. La algor-ética puede ser un puente para inscribir los principios de la Doctrina Social de la Iglesia en las tecnologías digitales. Papa Francisco (Mutual, 2020)\n",
      "\n",
      "Recientemente, la Organización para la Cooperación y el Desarrollo Económicos (en adelante OCDE), como la Unión Europea (en adelante UE), publicaron sendos documentos en los que establecen las reglas del “deber ser” de la inteligencia artificial (IA). En el caso de la OCDE, dictaminó los denominados “Principios sobre la Inteligencia Artificial”, mientras que la UE se refirió a los siete principios éticos que deben regir la IA.\n",
      "\n",
      "Debemos tener presente en este punto que Colombia adhiere al acuerdo sobre inteligencia artificial ante los países de la OCDE(2).\n",
      "\n",
      "La OCDE sostiene que deben ser los gobiernos los que garanticen que el diseño de los sistemas de IA respete los valores y leyes imperantes. El desafío consiste en que las personas puedan confiar que su seguridad y privacidad se respetarán,\n",
      "\n",
      "(2) Recuperado de https://www.mintic.gov.co/portal/inicio/Sala-de-Prensa/Noticias/100683:Colombia-se-adhiere-a-acuerdo-sobre-Inteligencia-Artificial-ante-los-paises-de-la-OCDE\n",
      "\n",
      "Revista Anales de la Facultad de Ciencias Jurídicas y Sociales. Universidad Nacional de La Plata. UNLP. Año 17/Nº 50-2020. Anual. Impresa ISSN 0075-7411-Electrónica ISSN 2591-6386\n",
      "\u001b[1;31m---------------------------------------------------------------------------------------------------------------------------------------------------------------------------------------\u001b[0m\n",
      "{\n",
      "  \"user_id\": \"default\",\n",
      "  \"file_path\": \"c:\\\\Users\\\\rodri\\\\InXploit\\\\BlazzmoTech\\\\web\\\\assudit\\\\backend\\\\tests\\\\data\\\\Algor-etica, Jorge+F. Villalba.pdf\"\n",
      "}\n",
      "\u001b[1;32m---------------------------------------------------------------------------------------------------------------------------------------------------------------------------------------\u001b[0m\n",
      "creation_dateama_index.core.schemDocument)}__dict__}(\u0003id_$638d0a49-a172-4fd6-bde9-1241cc1e757a\tembeddingmetadata}(\tfile_pathTc:\\Users\\rodri\\InXploit\\BlazzmoTech\\web\\assudit\\backend\\tests\\data\\1710522043095.pdf\tfile_name\u00111710522043095.pdf\tfile_type\u000fapplication/pdf\tfile_sizeJS\u0001\u0000\n",
      "2024-04-18\u0012last_modified_date\n",
      "relationships}\u0004textX\u0002\u0000\u0000## C R I S T I A N M O L I N Alast_accessed_datee\u001aexcluded_llm_metadata_keys](h\u000fh\u0011h\u0013h\u0014h\u0016h\u001ae\n",
      "\n",
      "D    E    S   A     R   R    O   L  L  A  D  O  R       .  N     E   T\n",
      "\n",
      "351-5510606\n",
      "\n",
      "cmaximilianomolina@gmail.com\n",
      "\n",
      "cristian-molina-90\n",
      "\n",
      "Córdoba - Argentina\n",
      "\n",
      "## F O R M A C I Ó N\n",
      "\n",
      "|TECNICATURA EN PROGRAMACION|ROSS | .NET/QA|\n",
      "|---|---|\n",
      "|UTN (CÓRDOBA - ARGENTINA)|Sistema de gestión para Ministerio de Finanzas Córdoba.|\n",
      "| |feb 2022 - dic 2023|\n",
      "|DISEÑO WEB|SOOFT | .NET|\n",
      "|AES (CÓRDOBA - ARGENTINA)|Sistema de gestión de clientes Claro|\n",
      "| |nov 2022 - abr 2023|\n",
      "\n",
      "## S K I L L S\n",
      "\n",
      "- .NET\n",
      "- HTML / CSS\n",
      "- C# / C / C++\n",
      "- Javascript\n",
      "- Ract\n",
      "- Web Design\n",
      "- SQL / Microsoft Azure\n",
      "- GIT\n",
      "- Selenium\n",
      "- SOLID\n",
      "- Metodologías Agiles\n",
      "text_template\u0019{metadata_str}_idxN\fend_char_idxN\n",
      "\n",
      "{content}\u0011metadata_template\u000e{key}: {value}\u0012metadata_seperator\u0001\n",
      "u\u000e__fields_set__(h\u000bh\u001f\u001c__private_attribute_values__}uba.\n",
      "\u001b[1;31m---------------------------------------------------------------------------------------------------------------------------------------------------------------------------------------\u001b[0m\n",
      "{\n",
      "  \"user_id\": \"default\"\n",
      "}\n",
      "\u001b[1;32m---------------------------------------------------------------------------------------------------------------------------------------------------------------------------------------\u001b[0m\n",
      "\u0004\n",
      "relationships}\u0004text\u0000\u0000C R I S T I A N M O L I N A}(\u0003id_$c28fef3f-676f-4c31-8528-69c7a45a5a07\tembeddingmetadatafilename\u0016data\\1710522043095.pdfs\u001cexcluded_embed_metadata_keys]\u001aexcluded_llm_metadata_keys]\n",
      "\n",
      "D E S A R R O L L A D O R\n",
      "\n",
      ". N E T\n",
      "\n",
      "351-5510606\n",
      "\n",
      "P E R F I L Programador con experiencia en .NET, SQL, C#, HTML y CSS. Capaz de\n",
      "\n",
      "cmaximilianomolina@gmail.com\n",
      "\n",
      "desarrollar aplicaciones robustas y escalables, con habilidades en el\n",
      "\n",
      "cristian-molina-90\n",
      "\n",
      "diseño y mantenimiento de bases de datos. Apasionado por la\n",
      "\n",
      "resolución de problemas y comprometido con la excelencia en el\n",
      "\n",
      "Córdoba - Argentina\n",
      "\n",
      "desarrollo de software.\n",
      "\n",
      "F O R M A C I Ó N\n",
      "\n",
      "E X P E R I E N C I A\n",
      "\n",
      "TECNICATURA EN PROGRAMACION\n",
      "\n",
      "ROSS | .NET/QA\n",
      "\n",
      "UTN (CÓRDOBA - ARGENTINA)\n",
      "\n",
      "Sistema de gestión para Ministerio de Finanzas Córdoba.\n",
      "\n",
      "feb 2022 - dic 2023\n",
      "\n",
      "DISEÑO WEB\n",
      "\n",
      "Desarrollo de sistema en .NET y control de calidad (QA) para el Ministerio de\n",
      "\n",
      "AES (CÓRDOBA - ARGENTINA)\n",
      "\n",
      "Finanzas, utilizando herramientas como Postman e Insomnia para pruebas de\n",
      "\n",
      "integración, consultas SQL con DBeaver, y automatización de pruebas con\n",
      "\n",
      "COMPLETE, JAVASCRIPT. JQUERY AND REACT.\n",
      "\n",
      "Selenium.\n",
      "\n",
      "UDEMY\n",
      "\n",
      "SOOFT | .NET\n",
      "\n",
      "Sistema de gestión de clientes Claro\n",
      "\n",
      "ESSENTIAL FOR ESL COMMUNICATION\n",
      "\n",
      "nov 2022 - abr 2023\n",
      "\n",
      "UDEMY\n",
      "\n",
      "Desarrollo de Sistema de gestión de clientes para Claro, utilizando\n",
      "\n",
      ".NET en Visual Studio, tecnologías web como HTML, CSS, con base\n",
      "\n",
      "de datos en SQL y Azure, y control de versiones con Git.\n",
      "\n",
      "S K I L L S\n",
      "\n",
      "BITSION | .NET\n",
      "\n",
      ".NET\n",
      "\n",
      "Sistema de venta de polizas.\n",
      "\n",
      "dic 2020 - sep 2021\n",
      "\n",
      "HTML / CSS\n",
      "\n",
      "Desarrollo de Sistema para venta de pólizas (Colombia), utilizando .NET en Visual Studio\n",
      "\n",
      "C# / C / C++\n",
      "\n",
      "para la programación, HTML y CSS para el diseño, y base de datos en SQL y Azure para el\n",
      "\n",
      "Javascript\n",
      "\n",
      "almacenamiento de datos. Se emplearon herramientas como Postman para pruebas de API\n",
      "\n",
      "Ract\n",
      "\n",
      "y Git para control de versiones.\n",
      "\n",
      "Web Design\n",
      "\n",
      "SQL / Microsoft Azure\n",
      "\n",
      "ASSIST INFORMATICA | .NET\n",
      "\n",
      "GIT\n",
      "\n",
      "Sistemas para farmacias y centros medicos\n",
      "\n",
      "Selenium\n",
      "\n",
      "Ene 2018 - Dic 2020\n",
      "\n",
      "SOLID\n",
      "\n",
      "Desarrollo de dos sistemas diferentes: uno para centros médicos y otro para farmacias. Se\n",
      "\n",
      "utilizaron tecnologías como .NET en Visual Studio para la programación, HTML y CSS\n",
      "\n",
      "Metodologías Agiles\n",
      "\n",
      "para el diseño, y base de datos en SQL y Azure para el almacenamiento de datos. Se\n",
      "\n",
      "Ingles nivel A2\n",
      "\n",
      "text_template\u0019{metadata_str}e versiones de ambos proyectos.\u000estart_char_idxN\fend_char_idxN\n",
      "\n",
      "{content}\u0011metadata_template\u000e{key}: {value}\u0012metadata_seperator\u0001\n",
      "u\u000e__fields_set__(h\u000bh\u0015\u001c__private_attribute_values__}uba.\n",
      "\u001b[1;31m---------------------------------------------------------------------------------------------------------------------------------------------------------------------------------------\u001b[0m\n",
      "{\n",
      "  \"user_id\": \"default\"\n",
      "}\n",
      "\u001b[1;32m---------------------------------------------------------------------------------------------------------------------------------------------------------------------------------------\u001b[0m\n"
     ]
    }
   ],
   "source": [
    "for doc in documents:\n",
    "    print(doc.text)\n",
    "    print('\\33[1;31m' + \"-\"*183 + '\\33[0m')\n",
    "    print(dumps(doc.metadata, indent=2))\n",
    "    print('\\33[1;32m' + \"-\"*183 + '\\33[0m')"
   ]
  },
  {
   "cell_type": "code",
   "execution_count": 39,
   "metadata": {},
   "outputs": [
    {
     "data": {
      "text/plain": [
       "{'file_path': 'data\\\\Algor-etica, Jorge+F. Villalba.pdf',\n",
       " 'file_name': 'Algor-etica, Jorge+F. Villalba.pdf',\n",
       " 'file_type': 'application/pdf',\n",
       " 'file_size': 118471,\n",
       " 'creation_date': '2024-04-18',\n",
       " 'last_modified_date': '2024-04-18'}"
      ]
     },
     "execution_count": 39,
     "metadata": {},
     "output_type": "execute_result"
    }
   ],
   "source": [
    "documents[0].metadata"
   ]
  },
  {
   "cell_type": "code",
   "execution_count": 15,
   "metadata": {},
   "outputs": [
    {
     "data": {
      "text/plain": [
       "{'file_path': 'c:\\\\Users\\\\rodri\\\\InXploit\\\\BlazzmoTech\\\\web\\\\assudit\\\\backend\\\\tests\\\\data\\\\1710522043095.pdf',\n",
       " 'file_name': '1710522043095.pdf',\n",
       " 'file_type': 'application/pdf',\n",
       " 'file_size': 122451,\n",
       " 'creation_date': '2024-04-18',\n",
       " 'last_modified_date': '2024-03-17'}"
      ]
     },
     "execution_count": 15,
     "metadata": {},
     "output_type": "execute_result"
    }
   ],
   "source": [
    "documents[0].metadata"
   ]
  },
  {
   "cell_type": "code",
   "execution_count": 21,
   "metadata": {},
   "outputs": [],
   "source": [
    "import pickle\n",
    "\n",
    "# Save the object to a file\n",
    "with open('./data/Llamaparse.pkl', 'wb') as file:\n",
    "    pickle.dump(documents, file)"
   ]
  },
  {
   "cell_type": "markdown",
   "metadata": {},
   "source": [
    "# Testing UnstructureIO implementation"
   ]
  },
  {
   "cell_type": "code",
   "execution_count": 18,
   "metadata": {},
   "outputs": [],
   "source": [
    "import pickle\n",
    "\n",
    "# Load the pickle file\n",
    "with open('./documents.pkl', 'rb') as file:\n",
    "    documentos = pickle.load(file)"
   ]
  },
  {
   "cell_type": "code",
   "execution_count": 33,
   "metadata": {},
   "outputs": [
    {
     "data": {
      "text/plain": [
       "243"
      ]
     },
     "execution_count": 33,
     "metadata": {},
     "output_type": "execute_result"
    }
   ],
   "source": [
    "len(documentos)"
   ]
  },
  {
   "cell_type": "code",
   "execution_count": 20,
   "metadata": {},
   "outputs": [
    {
     "data": {
      "text/plain": [
       "{'languages': ['eng'],\n",
       " 'page_number': 1,\n",
       " 'filename': 'tmp\\\\ObliCon-1-5.pdf',\n",
       " 'filetype': 'application/pdf',\n",
       " 'user_id': 'default'}"
      ]
     },
     "execution_count": 20,
     "metadata": {},
     "output_type": "execute_result"
    }
   ],
   "source": [
    "documentos[0].metadata"
   ]
  },
  {
   "cell_type": "code",
   "execution_count": 22,
   "metadata": {},
   "outputs": [],
   "source": [
    "from llama_index.readers.file import UnstructuredReader\n",
    "from pathlib import Path"
   ]
  },
  {
   "cell_type": "code",
   "execution_count": 23,
   "metadata": {},
   "outputs": [],
   "source": [
    "loader = UnstructuredReader(url='https://blazzbyte-1m9qxd4x.api.unstructuredapp.io', api_key=os.getenv(\"UNSTRUCTURED_API_KEY\"))"
   ]
  },
  {
   "cell_type": "code",
   "execution_count": 24,
   "metadata": {},
   "outputs": [],
   "source": [
    "all_docs = []\n",
    "\n",
    "pdf_files = list(Path('./data').glob(\"*.pdf\"))"
   ]
  },
  {
   "cell_type": "code",
   "execution_count": 26,
   "metadata": {},
   "outputs": [
    {
     "data": {
      "text/plain": [
       "[WindowsPath('data/1710522043095.pdf')]"
      ]
     },
     "execution_count": 26,
     "metadata": {},
     "output_type": "execute_result"
    }
   ],
   "source": [
    "pdf_files"
   ]
  },
  {
   "cell_type": "code",
   "execution_count": 27,
   "metadata": {},
   "outputs": [],
   "source": [
    "for pdf_file in pdf_files:\n",
    "    docs = loader.load_data(file=pdf_file)\n",
    "\n",
    "    for doc in docs:\n",
    "        all_docs.append(doc)"
   ]
  },
  {
   "cell_type": "code",
   "execution_count": 28,
   "metadata": {},
   "outputs": [
    {
     "data": {
      "text/plain": [
       "1"
      ]
     },
     "execution_count": 28,
     "metadata": {},
     "output_type": "execute_result"
    }
   ],
   "source": [
    "len(all_docs)"
   ]
  },
  {
   "cell_type": "code",
   "execution_count": 30,
   "metadata": {},
   "outputs": [
    {
     "data": {
      "text/plain": [
       "{'filename': 'data\\\\1710522043095.pdf'}"
      ]
     },
     "execution_count": 30,
     "metadata": {},
     "output_type": "execute_result"
    }
   ],
   "source": [
    "all_docs[0].metadata"
   ]
  },
  {
   "cell_type": "code",
   "execution_count": 29,
   "metadata": {},
   "outputs": [],
   "source": [
    "with open('./data/UnstructureIO.pkl', 'wb') as file:\n",
    "    pickle.dump(all_docs, file)"
   ]
  },
  {
   "cell_type": "markdown",
   "metadata": {},
   "source": [
    "# Creating Parsing json functions"
   ]
  },
  {
   "cell_type": "code",
   "execution_count": 31,
   "metadata": {},
   "outputs": [],
   "source": [
    "import os\n",
    "\n",
    "def parse_metadata(json_data):\n",
    "    \"\"\"\n",
    "    Parse metadata JSON objects and add a 'title' key based on different criteria.\n",
    "\n",
    "    Args:\n",
    "        json_data (dict): JSON object containing metadata.\n",
    "\n",
    "    Returns:\n",
    "        dict: Parsed metadata with added 'title' key.\n",
    "    \"\"\"\n",
    "    if 'filename' in json_data:\n",
    "        # For Object 1: Extract filename and use it as the title\n",
    "        file_name = os.path.basename(json_data['filename'])\n",
    "        json_data['title'] = file_name\n",
    "    elif 'file_name' in json_data:\n",
    "        # For Object 2: Use 'file_name' as the title\n",
    "        json_data['title'] = json_data['file_name']\n",
    "\n",
    "    return json_data"
   ]
  },
  {
   "cell_type": "code",
   "execution_count": 32,
   "metadata": {},
   "outputs": [
    {
     "name": "stdout",
     "output_type": "stream",
     "text": [
      "{\n",
      "  \"filename\": \"data\\\\1710522043095.pdf\",\n",
      "  \"title\": \"1710522043095.pdf\"\n",
      "}\n"
     ]
    }
   ],
   "source": [
    "from json import dumps\n",
    "print(dumps(parse_metadata(all_docs[0].metadata),indent=2))"
   ]
  },
  {
   "cell_type": "code",
   "execution_count": 40,
   "metadata": {},
   "outputs": [
    {
     "name": "stdout",
     "output_type": "stream",
     "text": [
      "{\n",
      "  \"file_path\": \"data\\\\Algor-etica, Jorge+F. Villalba.pdf\",\n",
      "  \"file_name\": \"Algor-etica, Jorge+F. Villalba.pdf\",\n",
      "  \"file_type\": \"application/pdf\",\n",
      "  \"file_size\": 118471,\n",
      "  \"creation_date\": \"2024-04-18\",\n",
      "  \"last_modified_date\": \"2024-04-18\",\n",
      "  \"title\": \"Algor-etica, Jorge+F. Villalba.pdf\"\n",
      "}\n"
     ]
    }
   ],
   "source": [
    "print(dumps(parse_metadata(documents[0].metadata),indent=2))"
   ]
  }
 ],
 "metadata": {
  "kernelspec": {
   "display_name": ".venv",
   "language": "python",
   "name": "python3"
  },
  "language_info": {
   "codemirror_mode": {
    "name": "ipython",
    "version": 3
   },
   "file_extension": ".py",
   "mimetype": "text/x-python",
   "name": "python",
   "nbconvert_exporter": "python",
   "pygments_lexer": "ipython3",
   "version": "3.11.2"
  }
 },
 "nbformat": 4,
 "nbformat_minor": 2
}
